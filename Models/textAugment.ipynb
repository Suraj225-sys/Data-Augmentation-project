{
 "cells": [
  {
   "cell_type": "markdown",
   "id": "b827f4da",
   "metadata": {},
   "source": [
    "# Loading the model  "
   ]
  },
  {
   "cell_type": "code",
   "execution_count": 2,
   "id": "7c75d835",
   "metadata": {},
   "outputs": [
    {
     "name": "stdout",
     "output_type": "stream",
     "text": [
      "Model from dir\n",
      "Tokenizer from dir\n"
     ]
    }
   ],
   "source": [
    "from transformers import PegasusForConditionalGeneration, PegasusTokenizerFast\n",
    "import os\n",
    "\n",
    "model_name = \"tuner007/pegasus_paraphrase\"\n",
    "model_dir = \"pegasus_model\"\n",
    "\n",
    "\"\"\"# Check if the model is already downloaded\n",
    "if not os.path.exists(model_dir):\n",
    "    # Download and save the model\n",
    "    model = PegasusForConditionalGeneration.from_pretrained(model_name)\n",
    "    model.save_pretrained(model_dir)\n",
    "else:\"\"\"\n",
    "# Load the model from the saved directory\n",
    "print(\"Model from dir\")\n",
    "model = PegasusForConditionalGeneration.from_pretrained(model_dir)\n",
    "tokenizer_dir = \"pegasus_tokenizer\"\n",
    "\"\"\"# Check if the tokenizer is already downloaded\n",
    "\n",
    "if not os.path.exists(tokenizer_dir):\n",
    "    # Download and save the tokenizer\n",
    "    tokenizer = PegasusTokenizerFast.from_pretrained(model_name)\n",
    "    tokenizer.save_pretrained(tokenizer_dir)\n",
    "else:\"\"\"\n",
    "\n",
    "print(\"Tokenizer from dir\")\n",
    "# Load the tokenizer from the saved directory\n",
    "tokenizer = PegasusTokenizerFast.from_pretrained(tokenizer_dir)\n",
    "\n",
    "\n"
   ]
  },
  {
   "cell_type": "markdown",
   "id": "85af48b9",
   "metadata": {},
   "source": [
    "# Helper Function"
   ]
  },
  {
   "cell_type": "code",
   "execution_count": 3,
   "id": "02f280b9",
   "metadata": {},
   "outputs": [],
   "source": [
    "def get_paraphrased_sentences(model, tokenizer, sentence, num_return_sequences=5, num_beams=5):\n",
    "    # tokenize the text to be a list of token IDs\n",
    "    inputs = tokenizer([sentence], truncation=True, padding=\"longest\", return_tensors=\"pt\")\n",
    "    # generate the paraphrased sentences\n",
    "    outputs = model.generate(\n",
    "        **inputs,\n",
    "        num_beams=num_beams,\n",
    "        num_return_sequences=num_return_sequences,\n",
    "    )\n",
    "    # decode the generated sentences using the tokenizer to get them back to text\n",
    "    return tokenizer.batch_decode(outputs, skip_special_tokens=True)"
   ]
  },
  {
   "cell_type": "markdown",
   "id": "9cb0c0e9",
   "metadata": {},
   "source": [
    "# Main"
   ]
  },
  {
   "cell_type": "code",
   "execution_count": 4,
   "id": "74105af2",
   "metadata": {},
   "outputs": [],
   "source": [
    "\n",
    "import pandas as pd\n",
    "\n",
    "csv_file_path = \"testCSV.csv\" \n",
    "output_csv_path = \"outputFile.csv\"\n",
    "df = pd.read_csv(csv_file_path)\n",
    "\n",
    "\n",
    "paraphrased_sentences = []\n",
    "labels = []\n",
    "\n",
    "for idx, (sentence, label) in enumerate(zip(df.iloc[:, 0], df.iloc[:, 1])):\n",
    "    paraphrased = get_paraphrased_sentences(model, tokenizer, sentence, num_beams=10, num_return_sequences=5)\n",
    "    \n",
    "    #append the original sentence and label\n",
    "    paraphrased_sentences.append(sentence)\n",
    "    labels.append(label)\n",
    "    \n",
    "    #append the paraphrased sentences and label\n",
    "    paraphrased_sentences.extend(paraphrased)\n",
    "    labels.extend([label] * len(paraphrased))\n",
    "\n",
    "# Create a new DataFrame with the original and paraphrased sentences and labels\n",
    "output_df = pd.DataFrame({\"Sentence\": paraphrased_sentences, \"Label\": labels})\n",
    "\n",
    "output_df.to_csv(output_csv_path, index=False)\n"
   ]
  },
  {
   "cell_type": "code",
   "execution_count": null,
   "id": "44bcf8e8",
   "metadata": {},
   "outputs": [],
   "source": []
  }
 ],
 "metadata": {
  "kernelspec": {
   "display_name": "Python 3 (ipykernel)",
   "language": "python",
   "name": "python3"
  },
  "language_info": {
   "codemirror_mode": {
    "name": "ipython",
    "version": 3
   },
   "file_extension": ".py",
   "mimetype": "text/x-python",
   "name": "python",
   "nbconvert_exporter": "python",
   "pygments_lexer": "ipython3",
   "version": "3.10.3"
  }
 },
 "nbformat": 4,
 "nbformat_minor": 5
}
